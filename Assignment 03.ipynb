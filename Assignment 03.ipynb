{
 "cells": [
  {
   "cell_type": "code",
   "execution_count": 2,
   "metadata": {},
   "outputs": [
    {
     "name": "stdout",
     "output_type": "stream",
     "text": [
      "Hours :45\n",
      "Rate :10\n",
      "475.0\n"
     ]
    }
   ],
   "source": [
    "hours =int(input(\"Hours :\"))\n",
    "rate =int(input(\"Rate :\"))\n",
    "def _compute(hours,rate):\n",
    "    if hours >40:\n",
    "        extra=(hours-40)*(rate*1.5)\n",
    "        pay=(40*rate)+extra\n",
    "        print(pay)\n",
    "    elif hours <= 40:\n",
    "        pay=(hours*rate)\n",
    "        print(pay)\n",
    "_compute(hours,rate)       "
   ]
  },
  {
   "cell_type": "code",
   "execution_count": null,
   "metadata": {},
   "outputs": [],
   "source": []
  }
 ],
 "metadata": {
  "kernelspec": {
   "display_name": "Python 3",
   "language": "python",
   "name": "python3"
  },
  "language_info": {
   "codemirror_mode": {
    "name": "ipython",
    "version": 3
   },
   "file_extension": ".py",
   "mimetype": "text/x-python",
   "name": "python",
   "nbconvert_exporter": "python",
   "pygments_lexer": "ipython3",
   "version": "3.7.3"
  }
 },
 "nbformat": 4,
 "nbformat_minor": 2
}

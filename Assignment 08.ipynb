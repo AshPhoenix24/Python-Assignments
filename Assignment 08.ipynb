{
 "cells": [
  {
   "cell_type": "code",
   "execution_count": 103,
   "metadata": {},
   "outputs": [
    {
     "name": "stdout",
     "output_type": "stream",
     "text": [
      "165 zqian@umich.edu\n",
      "79 rjlowe@iupui.edu\n",
      "157 cwen@iupui.edu\n",
      "67 david.horwitz@uct.ac.za\n",
      "161 mmmay@indiana.edu\n",
      "107 chmaurer@iupui.edu\n",
      "82 aaronz@vt.edu\n",
      "79 ian@caret.cam.ac.uk\n",
      "93 jimeng@umich.edu\n",
      "72 dlhaines@umich.edu\n"
     ]
    }
   ],
   "source": [
    "count=0\n",
    "mail=[]\n",
    "mail_dict={}\n",
    "fhandle=open(\"mbox.txt\",\"r\")\n",
    "for x in fhandle:\n",
    "    if x.startswith(\"From \"):\n",
    "        splt=x.split()\n",
    "        email=splt[1]\n",
    "        em=mail.append(email)\n",
    "for xd in mail:\n",
    "        mail_dict[xd]=mail_dict.get(xd,0)+1\n",
    "#print(mail_dict)\n",
    "for a,b in mail_dict.items():\n",
    "    if b>60:\n",
    "        print(b,a)"
   ]
  },
  {
   "cell_type": "code",
   "execution_count": 96,
   "metadata": {},
   "outputs": [
    {
     "name": "stdout",
     "output_type": "stream",
     "text": [
      "[1, 1, 1, 1, 2, 2, 2, 2, 3, 3, 5, 5, 5, 5, 5, 5, 6, 6, 7, 7, 7, 7, 8, 8, 8, 8, 8, 8, 8, 8, 14, 14, 14, 14, 14, 14, 17, 17, 17, 17, 18, 18, 19, 19, 20, 20, 21, 21, 24, 24, 24, 24, 25, 25, 27, 27, 28, 28, 28, 28, 29, 29, 40, 40, 41, 41, 43, 43, 43, 43, 67, 67, 72, 72, 79, 79, 79, 79, 82, 82, 93, 93, 107, 107, 157, 157, 161, 161, 165, 165]\n"
     ]
    }
   ],
   "source": [
    "for a,b in mail_dict.items():\n",
    "    v=num.append(b)\n",
    "print(sorted(num))"
   ]
  },
  {
   "cell_type": "code",
   "execution_count": 106,
   "metadata": {},
   "outputs": [
    {
     "name": "stdout",
     "output_type": "stream",
     "text": [
      "1644 source@collab.sakaiproject.org\n"
     ]
    }
   ],
   "source": [
    "count=0\n",
    "mail=[]\n",
    "mail_dict={}\n",
    "fhandle=open(\"mbox.txt\",\"r\")\n",
    "for x in fhandle:\n",
    "    if x.startswith(\"To:\"):\n",
    "        splt=x.split()\n",
    "        email=splt[1]\n",
    "        em=mail.append(email)\n",
    "for xd in mail:\n",
    "        mail_dict[xd]=mail_dict.get(xd,0)+1\n",
    "#print(mail_dict)\n",
    "for a,b in mail_dict.items():\n",
    "        print(b,a)"
   ]
  },
  {
   "cell_type": "code",
   "execution_count": null,
   "metadata": {},
   "outputs": [],
   "source": []
  }
 ],
 "metadata": {
  "kernelspec": {
   "display_name": "Python 3",
   "language": "python",
   "name": "python3"
  },
  "language_info": {
   "codemirror_mode": {
    "name": "ipython",
    "version": 3
   },
   "file_extension": ".py",
   "mimetype": "text/x-python",
   "name": "python",
   "nbconvert_exporter": "python",
   "pygments_lexer": "ipython3",
   "version": "3.7.3"
  }
 },
 "nbformat": 4,
 "nbformat_minor": 2
}

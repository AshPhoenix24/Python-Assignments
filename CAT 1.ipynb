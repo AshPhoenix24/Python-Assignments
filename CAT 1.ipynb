{
 "cells": [
  {
   "cell_type": "markdown",
   "metadata": {},
   "source": [
    "### Name : Lewis Muriithi"
   ]
  },
  {
   "cell_type": "code",
   "execution_count": null,
   "metadata": {},
   "outputs": [],
   "source": []
  },
  {
   "cell_type": "markdown",
   "metadata": {},
   "source": [
    "### Question 1"
   ]
  },
  {
   "cell_type": "markdown",
   "metadata": {},
   "source": [
    "Write a Python program that prompts the user for two numbers, reads them in, and prints out the product"
   ]
  },
  {
   "cell_type": "code",
   "execution_count": 1,
   "metadata": {},
   "outputs": [
    {
     "name": "stdout",
     "output_type": "stream",
     "text": [
      "Input First Number  :32\n",
      "Input Second Number  :66\n",
      "First Number is >  32  while  Second Number is >  66\n",
      "Their Product is :  2112\n"
     ]
    }
   ],
   "source": [
    "a=int(input(\"Input First Number  :\"))\n",
    "b=int(input(\"Input Second Number  :\"))\n",
    "print(\"First Number is > \",a,\" while \",\"Second Number is > \",b)\n",
    "product=a*b\n",
    "print(\"Their Product is : \",product)"
   ]
  },
  {
   "cell_type": "markdown",
   "metadata": {},
   "source": [
    "### Question 2"
   ]
  },
  {
   "cell_type": "markdown",
   "metadata": {},
   "source": [
    "Given a string s, write a short expression for a string that includes s repeated five times"
   ]
  },
  {
   "cell_type": "code",
   "execution_count": 2,
   "metadata": {},
   "outputs": [
    {
     "name": "stdout",
     "output_type": "stream",
     "text": [
      "sssss\n"
     ]
    }
   ],
   "source": [
    "def repeat(read):\n",
    "    print(read)\n",
    "repeat('s'*5)"
   ]
  },
  {
   "cell_type": "markdown",
   "metadata": {},
   "source": [
    "### Question 3"
   ]
  },
  {
   "cell_type": "markdown",
   "metadata": {},
   "source": [
    "Write a Python code to concatenate following dictionaries to create a new one.\n",
    "\n",
    "dic1={1:10, 2:20}\n",
    "\n",
    "dic2={3:30, 4:40}\n",
    "\n",
    "dic3={5:50,6:60}\n",
    "\n",
    "Expected Result : {1: 10, 2: 20, 3: 30, 4: 40, 5: 50, 6: 60}"
   ]
  },
  {
   "cell_type": "code",
   "execution_count": 3,
   "metadata": {},
   "outputs": [
    {
     "name": "stdout",
     "output_type": "stream",
     "text": [
      "{1: 1, 2: 1, 3: 2, 4: 2}\n"
     ]
    }
   ],
   "source": [
    "Merge={}\n",
    "dic1={1:10, 2:20}\n",
    "dic2={3:30, 4:40}\n",
    "dic3={5:50,6:60}\n",
    "for a in dic1:\n",
    "    if a not in Merge:\n",
    "        Merge[a]=1\n",
    "    else:\n",
    "        Merge[a]=Merge[a]+1\n",
    "for a in dic2:\n",
    "    if a not in Merge:\n",
    "        Merge[a]=1\n",
    "    else:\n",
    "        Merge[a]=Merge[a]+1\n",
    "for a in dic2:\n",
    "    if a not in Merge:\n",
    "        Merge[a]=1\n",
    "    else:\n",
    "        Merge[a]=Merge[a]+1\n",
    "print(Merge)"
   ]
  },
  {
   "cell_type": "markdown",
   "metadata": {},
   "source": [
    "### Question 4"
   ]
  },
  {
   "cell_type": "markdown",
   "metadata": {},
   "source": [
    "Write a Python code to combine values in python list of dictionaries.\n",
    "\n",
    "Sample data: [{'item': 'item1', 'amount': 400}, {'item': 'item2', 'amount': 300}, {'item': 'item1', 'amount': 750}]\n",
    "\n",
    "Expected Output: Counter({'item1': 1150, 'item2': 300})"
   ]
  },
  {
   "cell_type": "code",
   "execution_count": 46,
   "metadata": {},
   "outputs": [
    {
     "name": "stdout",
     "output_type": "stream",
     "text": [
      "{'Item1': 2, 'item2': 1}\n"
     ]
    }
   ],
   "source": [
    "dic1={}\n",
    "dic2={}\n",
    "dic3={}\n",
    "counter={}\n",
    "dic1[\"Item1\"]=400\n",
    "dic2[\"item2\"]=300\n",
    "dic3[\"item1\"]=750\n",
    "for xd in dic1:\n",
    "    if xd not in counter:\n",
    "        counter[xd]=1\n",
    "    else:\n",
    "        counter[xd]=counter[xd]+1\n",
    "for xx in dic2:\n",
    "    if xx not in counter:\n",
    "        counter[xx]=1\n",
    "    else:\n",
    "        counter[xx]=counter[xx]+1\n",
    "for xv in dic3:\n",
    "    if xd not in counter:\n",
    "        counter[xd]=1\n",
    "    else:\n",
    "        counter[xd]=counter[xd]+1\n",
    "print(counter)"
   ]
  },
  {
   "cell_type": "markdown",
   "metadata": {},
   "source": [
    "### Question 5"
   ]
  },
  {
   "cell_type": "markdown",
   "metadata": {},
   "source": [
    "Write a Python function to check whether a number is divisible by another number.\n",
    "\n",
    "Accept two integers values form the user."
   ]
  },
  {
   "cell_type": "code",
   "execution_count": 5,
   "metadata": {},
   "outputs": [
    {
     "name": "stdout",
     "output_type": "stream",
     "text": [
      "Input Frst Number :6\n",
      "Input Scnd Number :9\n",
      "6 Is Not Divisible By  9\n",
      "9 Is Not Divisible By  6\n"
     ]
    }
   ],
   "source": [
    "x=int(input(\"Input Frst Number :\"))\n",
    "y=int(input(\"Input Scnd Number :\"))\n",
    "if x%y == 0:\n",
    "    print(x,\"Is Divisible By \",y)\n",
    "else:\n",
    "    print(x,\"Is Not Divisible By \",y)\n",
    "\n",
    "if y%x == 0:\n",
    "    print(y,\"Is Divisible By \",x)\n",
    "else:\n",
    "    print(y,\"Is Not Divisible By \",x)\n",
    "\n"
   ]
  },
  {
   "cell_type": "markdown",
   "metadata": {},
   "source": [
    "### Question 6"
   ]
  },
  {
   "cell_type": "markdown",
   "metadata": {},
   "source": [
    "Write a Python program to count the number of characters (character frequency) in a string. \n",
    "\n",
    "Sample String : google.com'\n",
    "\n",
    "Expected Result : {'o': 3, 'g': 2, '.': 1, 'e': 1, 'l': 1, 'm': 1, 'c': 1}"
   ]
  },
  {
   "cell_type": "code",
   "execution_count": 47,
   "metadata": {},
   "outputs": [
    {
     "name": "stdout",
     "output_type": "stream",
     "text": [
      "{'P': 1, 'a': 2, 'n': 2, 'g': 2, 's': 1, 'j': 1, 'd': 1, 'A': 1, 'M': 1, 'D': 1}\n"
     ]
    }
   ],
   "source": [
    "dictt=dict()\n",
    "String='google.com'\n",
    "for x in string:\n",
    "    words=x.split()\n",
    "    for word in words:\n",
    "        dictt[word]=dictt.get(word, 0)+1\n",
    "print(dictt)\n"
   ]
  },
  {
   "cell_type": "markdown",
   "metadata": {},
   "source": [
    "### Question 7"
   ]
  },
  {
   "cell_type": "markdown",
   "metadata": {},
   "source": [
    "Write a Python function that takes a list of words and returns the length of the longest one"
   ]
  },
  {
   "cell_type": "code",
   "execution_count": 9,
   "metadata": {},
   "outputs": [
    {
     "name": "stdout",
     "output_type": "stream",
     "text": [
      "1st Word :dart\n",
      "2nd Word :kay\n",
      "3rd Word :xd\n",
      "dart Is the longest word\n"
     ]
    }
   ],
   "source": [
    "x=(input(\"1st Word :\"))\n",
    "y=(input(\"2nd Word :\"))\n",
    "z=(input(\"3rd Word :\"))\n",
    "len1=len(x)\n",
    "len2=len(y)\n",
    "len3=len(z)\n",
    "if len1 > len3 and len2:\n",
    "    print(x,\"Is the longest word\")\n",
    "if len2 > len1 and len2:\n",
    "    print(y,\"Is the longest word\")\n",
    "if len3 > len2 and len1:\n",
    "    print(z,\"Is the longest word\")\n",
    "\n",
    "\n"
   ]
  },
  {
   "cell_type": "markdown",
   "metadata": {},
   "source": [
    "### Question 8"
   ]
  },
  {
   "cell_type": "markdown",
   "metadata": {},
   "source": [
    "Write a Python function that takes a string as an argument then returns a reverse of the string.\n",
    "\n",
    "Sample String : myReverse(\"1234abcd\")\n",
    "Expected Output : \"dcba4321\""
   ]
  },
  {
   "cell_type": "code",
   "execution_count": 10,
   "metadata": {},
   "outputs": [
    {
     "name": "stdout",
     "output_type": "stream",
     "text": [
      "Input String :git\n",
      "[]\n"
     ]
    }
   ],
   "source": [
    "stt=[]\n",
    "x=input(\"Input String :\")\n",
    "cay=stt.append(x)\n",
    "rev=stt[-1:1:-1]\n",
    "print(rev)"
   ]
  },
  {
   "cell_type": "markdown",
   "metadata": {},
   "source": [
    "### Question 9"
   ]
  },
  {
   "cell_type": "markdown",
   "metadata": {},
   "source": [
    "You have a list of words\n",
    "['apple', 'book', 'melon', 'applewatch', 'man', 'notebook', 'watch', 'water', 'super', 'watermelon', 'notebook', 'superman']\n",
    "\n",
    "Given this list\n",
    "['book', 'apple', 'notebook', 'note', 'applewatch', 'melon', 'watermelon']\n",
    "\n",
    "Print out all compound words in the list, the expected output should be something like this:\n",
    "['notebook', 'applewatch', 'watermelon']\n"
   ]
  },
  {
   "cell_type": "code",
   "execution_count": 37,
   "metadata": {},
   "outputs": [
    {
     "name": "stdout",
     "output_type": "stream",
     "text": [
      "['apple', 'book', 'melon', 'applewatch', 'notebook', 'watermelon', 'notebook', 'book', 'apple', 'notebook', 'applewatch', 'melon', 'watermelon']\n"
     ]
    }
   ],
   "source": [
    "Merge=[]\n",
    "lst= ['apple', 'book', 'melon', 'applewatch', 'man', 'notebook', 'watch', 'water', 'super', 'watermelon', 'notebook', 'superman']\n",
    "listt= ['book', 'apple', 'notebook', 'note', 'applewatch', 'melon', 'watermelon']\n",
    "for x in lst:\n",
    "    if x in listt:\n",
    "        xx=Merge.append(x)\n",
    "for v in listt:\n",
    "    if v  in lst:\n",
    "        xy=Merge.append(v)\n",
    "print(Merge)"
   ]
  },
  {
   "cell_type": "markdown",
   "metadata": {},
   "source": [
    "### Question 10"
   ]
  },
  {
   "cell_type": "markdown",
   "metadata": {},
   "source": [
    "Write a Python program to convert a list of multiple integers into a single integer.\n",
    "\n",
    "Sample list: [11, 33, 50]\n",
    "    \n",
    "Expected Output: 113350"
   ]
  },
  {
   "cell_type": "code",
   "execution_count": 38,
   "metadata": {},
   "outputs": [
    {
     "name": "stdout",
     "output_type": "stream",
     "text": [
      "113350\n"
     ]
    }
   ],
   "source": [
    "list=[11,33,50]\n",
    "for x in list:\n",
    "    if x<20:\n",
    "        A=str(x)\n",
    "    if (x<40) and (x>20):\n",
    "        B=str(x)\n",
    "    if (x<60) and (x>40):\n",
    "        C=str(x)\n",
    "Merge=A+B+C\n",
    "print(Merge)"
   ]
  },
  {
   "cell_type": "markdown",
   "metadata": {},
   "source": [
    "### Question 11"
   ]
  },
  {
   "cell_type": "markdown",
   "metadata": {},
   "source": [
    "Given a string 'P a n a g s n j g d A M D', convert all the letter to uppercase the make a list of the characters. \n",
    "\n",
    "Output = ['P', 'A', 'N', 'A', 'G', 'S', 'N', 'J', 'G', 'D', 'A', 'M', 'D']"
   ]
  },
  {
   "cell_type": "code",
   "execution_count": 45,
   "metadata": {},
   "outputs": [
    {
     "name": "stdout",
     "output_type": "stream",
     "text": [
      "['P', 'A', 'N', 'A', 'G', 'S', 'N', 'J', 'G', 'D', 'A', 'M', 'D']\n"
     ]
    }
   ],
   "source": [
    "string='P a n a g s n j g d A M D'\n",
    "x=string.upper()\n",
    "splt=x.split()\n",
    "print(splt)"
   ]
  },
  {
   "cell_type": "markdown",
   "metadata": {},
   "source": [
    "### Question 12"
   ]
  },
  {
   "cell_type": "markdown",
   "metadata": {},
   "source": [
    "Write a Python function that checks whether a passed string is palindrome or not. \n",
    "Note: A palindrome is a word, phrase, or sequence that reads the same backward as forward, e.g., madam or nurses run."
   ]
  },
  {
   "cell_type": "code",
   "execution_count": null,
   "metadata": {},
   "outputs": [],
   "source": []
  }
 ],
 "metadata": {
  "kernelspec": {
   "display_name": "Python 3",
   "language": "python",
   "name": "python3"
  },
  "language_info": {
   "codemirror_mode": {
    "name": "ipython",
    "version": 3
   },
   "file_extension": ".py",
   "mimetype": "text/x-python",
   "name": "python",
   "nbconvert_exporter": "python",
   "pygments_lexer": "ipython3",
   "version": "3.7.3"
  }
 },
 "nbformat": 4,
 "nbformat_minor": 2
}

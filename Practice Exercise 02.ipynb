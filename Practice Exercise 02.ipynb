{
 "cells": [
  {
   "cell_type": "markdown",
   "metadata": {},
   "source": [
    "Question 1"
   ]
  },
  {
   "cell_type": "markdown",
   "metadata": {},
   "source": [
    "Define a function that computes the sum of two numbers"
   ]
  },
  {
   "cell_type": "code",
   "execution_count": 1,
   "metadata": {},
   "outputs": [
    {
     "data": {
      "text/plain": [
       "7"
      ]
     },
     "execution_count": 1,
     "metadata": {},
     "output_type": "execute_result"
    }
   ],
   "source": [
    "def _sum(a,b):\n",
    "    return a+b\n",
    "_sum(2,5)"
   ]
  },
  {
   "cell_type": "code",
   "execution_count": null,
   "metadata": {},
   "outputs": [],
   "source": []
  },
  {
   "cell_type": "markdown",
   "metadata": {},
   "source": [
    "Question 2"
   ]
  },
  {
   "cell_type": "markdown",
   "metadata": {},
   "source": [
    "Define a function that can convert an integer into a string and print it in console"
   ]
  },
  {
   "cell_type": "code",
   "execution_count": 5,
   "metadata": {},
   "outputs": [
    {
     "name": "stdout",
     "output_type": "stream",
     "text": [
      "123\n"
     ]
    },
    {
     "data": {
      "text/plain": [
       "str"
      ]
     },
     "execution_count": 5,
     "metadata": {},
     "output_type": "execute_result"
    }
   ],
   "source": [
    "Number=int(123)\n",
    "number =str(Number)\n",
    "print(number)\n",
    "type(number)"
   ]
  },
  {
   "cell_type": "code",
   "execution_count": null,
   "metadata": {},
   "outputs": [],
   "source": []
  },
  {
   "cell_type": "markdown",
   "metadata": {},
   "source": [
    "Question 3"
   ]
  },
  {
   "cell_type": "markdown",
   "metadata": {},
   "source": [
    "Define a function that can recieve two integral numbers in string form and compute their sum and print it in console"
   ]
  },
  {
   "cell_type": "code",
   "execution_count": 8,
   "metadata": {},
   "outputs": [
    {
     "data": {
      "text/plain": [
       "58"
      ]
     },
     "execution_count": 8,
     "metadata": {},
     "output_type": "execute_result"
    }
   ],
   "source": [
    "def receive_num(x,y):\n",
    "    y=int(y)\n",
    "    x=int(x)\n",
    "    return (x+y)\n",
    "receive_num(\"40\",\"18\")"
   ]
  },
  {
   "cell_type": "code",
   "execution_count": null,
   "metadata": {},
   "outputs": [],
   "source": []
  },
  {
   "cell_type": "markdown",
   "metadata": {},
   "source": [
    "Question 4"
   ]
  },
  {
   "cell_type": "markdown",
   "metadata": {},
   "source": [
    "Define a function that can accept two strings as input and concentrate them and print it in console"
   ]
  },
  {
   "cell_type": "code",
   "execution_count": 9,
   "metadata": {},
   "outputs": [
    {
     "data": {
      "text/plain": [
       "'Hello world'"
      ]
     },
     "execution_count": 9,
     "metadata": {},
     "output_type": "execute_result"
    }
   ],
   "source": [
    "def recieve_input(a,b):\n",
    "    a=str(a)\n",
    "    b=str(b)\n",
    "    return a+b\n",
    "recieve_input(\"Hello\",\" world\")"
   ]
  },
  {
   "cell_type": "code",
   "execution_count": null,
   "metadata": {},
   "outputs": [],
   "source": []
  },
  {
   "cell_type": "markdown",
   "metadata": {},
   "source": [
    "Queston 5\n"
   ]
  },
  {
   "cell_type": "markdown",
   "metadata": {},
   "source": [
    "Define a function that can accept an integer number as input and prints \"It's an even number\" if the number is even,otherwise print \"It's an odd number\" "
   ]
  },
  {
   "cell_type": "code",
   "execution_count": 18,
   "metadata": {},
   "outputs": [
    {
     "name": "stdout",
     "output_type": "stream",
     "text": [
      "Input Number: 13\n",
      "It's an odd number\n"
     ]
    }
   ],
   "source": [
    "try:\n",
    "    x=int(input(\"Input Number: \"))\n",
    "    def _int(x):\n",
    "        if x%2 == 0:\n",
    "            print(\"It's an even number\")\n",
    "        else:\n",
    "            print(\"It's an odd number\")\n",
    "except:\n",
    "        print(\"You haven't entered a numerical value\")\n",
    "_int(x)"
   ]
  },
  {
   "cell_type": "code",
   "execution_count": null,
   "metadata": {},
   "outputs": [],
   "source": []
  },
  {
   "cell_type": "markdown",
   "metadata": {},
   "source": [
    "Question 6"
   ]
  },
  {
   "cell_type": "markdown",
   "metadata": {},
   "source": [
    "Define a function that takes two integers and returns the largest of the two integers"
   ]
  },
  {
   "cell_type": "code",
   "execution_count": 12,
   "metadata": {},
   "outputs": [
    {
     "name": "stdout",
     "output_type": "stream",
     "text": [
      "Input First .No : 44\n",
      "Input Second .No : 12\n",
      "44 Is greater than 12\n"
     ]
    }
   ],
   "source": [
    "x=int(input(\"Input First .No : \"))\n",
    "y=int(input(\"Input Second .No : \"))\n",
    "def _int(x,y):\n",
    "    if x>y:\n",
    "        print(x,\"Is greater than\",y)\n",
    "    elif y>x:\n",
    "        print(y,\"Is greater than\",x)\n",
    "_int(x,y)"
   ]
  },
  {
   "cell_type": "code",
   "execution_count": null,
   "metadata": {},
   "outputs": [],
   "source": []
  },
  {
   "cell_type": "markdown",
   "metadata": {},
   "source": [
    "Question 7"
   ]
  },
  {
   "cell_type": "markdown",
   "metadata": {},
   "source": [
    "Define a function that takes two integers and returns the smallest of the two integers"
   ]
  },
  {
   "cell_type": "code",
   "execution_count": 22,
   "metadata": {},
   "outputs": [
    {
     "name": "stdout",
     "output_type": "stream",
     "text": [
      "Input First .No : 10\n",
      "Input Second .No : 20\n",
      "Input Third .No : 30\n",
      "10 Is less than 20 and 30\n",
      "->    10 Is the smallest value\n"
     ]
    }
   ],
   "source": [
    "a=int(input(\"Input First .No : \"))\n",
    "b=int(input(\"Input Second .No : \"))\n",
    "c=int(input(\"Input Third .No : \"))\n",
    "def _int(a,b,c):\n",
    "    if a<b and c:\n",
    "        print(a,\"Is less than\",b,\"and\",c)\n",
    "        print(\"->   \",a,\"Is the smallest value\")\n",
    "    elif b<a and c:\n",
    "        print(b,\"Is less than\",a,\"and\",c)\n",
    "        print(\"->   \",b,\"Is the smallest value\")\n",
    "    elif c<a and b:\n",
    "        print(c,\"Is less than\",a,\"and\",b)\n",
    "        print(\"->   \",c,\"Is the smallest value\")\n",
    "_int(a,b,c)\n"
   ]
  },
  {
   "cell_type": "code",
   "execution_count": null,
   "metadata": {},
   "outputs": [],
   "source": []
  },
  {
   "cell_type": "markdown",
   "metadata": {},
   "source": [
    "Question 8"
   ]
  },
  {
   "cell_type": "markdown",
   "metadata": {},
   "source": [
    "Define a function that prints grades based on the score"
   ]
  },
  {
   "cell_type": "code",
   "execution_count": 23,
   "metadata": {},
   "outputs": [
    {
     "name": "stdout",
     "output_type": "stream",
     "text": [
      "Input Grade : 67\n",
      "B\n"
     ]
    }
   ],
   "source": [
    "Grade=float(input(\"Input Grade : \"))\n",
    "def _val(Grade):\n",
    "    if Grade < 40:\n",
    "        print(\"F\")\n",
    "    elif Grade < 50:\n",
    "        print(\"D\")\n",
    "    elif Grade < 60:\n",
    "        print(\"C\")    \n",
    "    elif Grade < 70:\n",
    "        print(\"B\")\n",
    "    else:\n",
    "        print(\"A\")\n",
    "_val(Grade)"
   ]
  },
  {
   "cell_type": "code",
   "execution_count": null,
   "metadata": {},
   "outputs": [],
   "source": []
  },
  {
   "cell_type": "markdown",
   "metadata": {},
   "source": [
    "Question 9"
   ]
  },
  {
   "cell_type": "markdown",
   "metadata": {},
   "source": [
    "Define a function to find the area of a triangle and return the area"
   ]
  },
  {
   "cell_type": "code",
   "execution_count": 1,
   "metadata": {},
   "outputs": [
    {
     "name": "stdout",
     "output_type": "stream",
     "text": [
      "Base : 4\n",
      "Height : 8\n"
     ]
    },
    {
     "data": {
      "text/plain": [
       "16.0"
      ]
     },
     "execution_count": 1,
     "metadata": {},
     "output_type": "execute_result"
    }
   ],
   "source": [
    "x=int(input(\"Base : \"))\n",
    "y=int(input(\"Height : \"))\n",
    "def _val(x,y):\n",
    "    return x/2*y\n",
    "_val(x,y)"
   ]
  },
  {
   "cell_type": "code",
   "execution_count": null,
   "metadata": {},
   "outputs": [],
   "source": []
  }
 ],
 "metadata": {
  "kernelspec": {
   "display_name": "Python 3",
   "language": "python",
   "name": "python3"
  },
  "language_info": {
   "codemirror_mode": {
    "name": "ipython",
    "version": 3
   },
   "file_extension": ".py",
   "mimetype": "text/x-python",
   "name": "python",
   "nbconvert_exporter": "python",
   "pygments_lexer": "ipython3",
   "version": "3.7.3"
  }
 },
 "nbformat": 4,
 "nbformat_minor": 2
}

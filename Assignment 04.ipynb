{
 "cells": [
  {
   "cell_type": "code",
   "execution_count": 21,
   "metadata": {},
   "outputs": [
    {
     "name": "stdout",
     "output_type": "stream",
     "text": [
      "Input Number :41\n",
      "41 Doesn't exist ,its 3\n",
      "41 exists in the list\n"
     ]
    }
   ],
   "source": [
    "num=int(input(\"Input Number :\"))\n",
    "lst=[3,41,12,9,74,15]\n",
    "for x in lst:\n",
    "    if x == num:\n",
    "        print(num,\"exists in the list\")\n",
    "        break\n",
    "    else:\n",
    "        print(num,\"Doesn't exist ,its\",x)\n",
    "        "
   ]
  },
  {
   "cell_type": "code",
   "execution_count": null,
   "metadata": {},
   "outputs": [],
   "source": []
  }
 ],
 "metadata": {
  "kernelspec": {
   "display_name": "Python 3",
   "language": "python",
   "name": "python3"
  },
  "language_info": {
   "codemirror_mode": {
    "name": "ipython",
    "version": 3
   },
   "file_extension": ".py",
   "mimetype": "text/x-python",
   "name": "python",
   "nbconvert_exporter": "python",
   "pygments_lexer": "ipython3",
   "version": "3.7.3"
  }
 },
 "nbformat": 4,
 "nbformat_minor": 2
}

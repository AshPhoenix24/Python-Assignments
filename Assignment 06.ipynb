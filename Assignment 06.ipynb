{
 "cells": [
  {
   "cell_type": "code",
   "execution_count": 1,
   "metadata": {},
   "outputs": [],
   "source": [
    "#PART 01"
   ]
  },
  {
   "cell_type": "code",
   "execution_count": 2,
   "metadata": {},
   "outputs": [
    {
     "name": "stdout",
     "output_type": "stream",
     "text": [
      "Mon : 286 Tue : 346 Wen : 275 Thu : 352 Fri : 258 Sat : 61 Sun : 66\n",
      "Most Frequent day is Thursday with : 352 days\n"
     ]
    }
   ],
   "source": [
    "lst=[]\n",
    "fhandle=open(\"mbox.txt\",\"r\")\n",
    "for x in fhandle:\n",
    "    if x.startswith(\"From \"):\n",
    "        splt=x.split()\n",
    "        dayss=splt[2]\n",
    "        days=lst.append(dayss)\n",
    "_1=lst.count(\"Mon\")\n",
    "_2=lst.count(\"Tue\")\n",
    "_3=lst.count(\"Wed\")\n",
    "_4=lst.count(\"Thu\")\n",
    "_5=lst.count(\"Fri\")\n",
    "_6=lst.count(\"Sat\")\n",
    "_7=lst.count(\"Sun\")\n",
    "print(\"Mon :\",_1,\"Tue :\",_2,\"Wen :\",_3,\"Thu :\",_4,\"Fri :\",_5,\"Sat :\",_6,\"Sun :\",_7)\n",
    "print(\"Most Frequent day is Thursday with :\",_4,\"days\")"
   ]
  },
  {
   "cell_type": "code",
   "execution_count": 3,
   "metadata": {
    "scrolled": true
   },
   "outputs": [
    {
     "name": "stdout",
     "output_type": "stream",
     "text": [
      "{'Sat': 61, 'Fri': 258, 'Thu': 352, 'Wed': 275, 'Tue': 346, 'Mon': 286, 'Sun': 66}\n",
      "Thu is the most frequent with : 352 days\n",
      "Total no of emails starting with from  : 1644\n"
     ]
    }
   ],
   "source": [
    "counter=0\n",
    "count=0\n",
    "lstt=[]\n",
    "dys={}\n",
    "fhandle=open(\"mbox.txt\",\"r\")\n",
    "for x in fhandle:\n",
    "    if x.startswith(\"From \"):\n",
    "        counter=counter+1\n",
    "        splt=x.split()\n",
    "        dayy=splt[2]\n",
    "        days=lstt.append(dayy)\n",
    "for day in lstt:\n",
    "    if day not in dys:\n",
    "        dys[day]=1\n",
    "    else:\n",
    "        dys[day]=dys[day]+1\n",
    "for a,b in dys.items():\n",
    "    if count<b:\n",
    "        count=b\n",
    "print(dys)\n",
    "print(\"Thu is the most frequent with :\",count,\"days\")\n",
    "print(\"Total no of emails starting with from  :\",counter)\n"
   ]
  },
  {
   "cell_type": "code",
   "execution_count": null,
   "metadata": {},
   "outputs": [],
   "source": []
  },
  {
   "cell_type": "code",
   "execution_count": 4,
   "metadata": {},
   "outputs": [],
   "source": [
    "#PART O2"
   ]
  },
  {
   "cell_type": "code",
   "execution_count": 1,
   "metadata": {},
   "outputs": [
    {
     "name": "stdout",
     "output_type": "stream",
     "text": [
      "{'Jan': 99, 'Dec': 706, 'Nov': 683, 'Oct': 156}\n",
      "Dec is the most frequent  : 706\n"
     ]
    }
   ],
   "source": [
    "count=0\n",
    "months=[]\n",
    "Months={}\n",
    "fhandle=open(\"mbox.txt\",\"r\")\n",
    "for x in fhandle:\n",
    "    if x.startswith(\"From \"):\n",
    "        splt=x.split()\n",
    "        mon=splt[3]\n",
    "        days=months.append(mon)\n",
    "for mont in months:\n",
    "    if mont not in Months:\n",
    "        Months[mont]=1\n",
    "    else:\n",
    "         Months[mont]= Months[mont]+1\n",
    "\n",
    "for a,b in Months.items():\n",
    "    if count<b:\n",
    "        count=b\n",
    "print(Months)\n",
    "print(\"Dec is the most frequent  :\",count)\n"
   ]
  },
  {
   "cell_type": "code",
   "execution_count": null,
   "metadata": {},
   "outputs": [],
   "source": []
  }
 ],
 "metadata": {
  "kernelspec": {
   "display_name": "Python 3",
   "language": "python",
   "name": "python3"
  },
  "language_info": {
   "codemirror_mode": {
    "name": "ipython",
    "version": 3
   },
   "file_extension": ".py",
   "mimetype": "text/x-python",
   "name": "python",
   "nbconvert_exporter": "python",
   "pygments_lexer": "ipython3",
   "version": "3.7.3"
  }
 },
 "nbformat": 4,
 "nbformat_minor": 2
}

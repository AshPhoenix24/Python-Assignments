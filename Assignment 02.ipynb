{
 "cells": [
  {
   "cell_type": "code",
   "execution_count": 1,
   "metadata": {},
   "outputs": [
    {
     "name": "stdout",
     "output_type": "stream",
     "text": [
      "Hours :35\n",
      "Rate :2.75\n",
      "96.25\n"
     ]
    }
   ],
   "source": [
    "Hours = float(input(\"Hours :\"))\n",
    "Rate = float(input(\"Rate :\"))\n",
    "Extra = ((Hours-40)*(Rate*1.5))\n",
    "Pay = ((40)*Rate)+Extra\n",
    "pay=Rate*Hours\n",
    "if Hours > 40:\n",
    "    print(Pay)\n",
    "else:\n",
    "    print(pay)\n"
   ]
  },
  {
   "cell_type": "code",
   "execution_count": 5,
   "metadata": {},
   "outputs": [
    {
     "name": "stdout",
     "output_type": "stream",
     "text": [
      "Hours :trace\n",
      "Error,please enter numeric input\n"
     ]
    }
   ],
   "source": [
    "try:   \n",
    "    Hours = float(input(\"Hours :\"))\n",
    "    Rate = float(input(\"Rate :\"))\n",
    "    Extra = ((Hours-40)*(Rate*1.5))\n",
    "    Pay = ((40)*Rate)+Extra\n",
    "    pay=Rate*Hours\n",
    "    if Hours > 40:\n",
    "        print(Pay)\n",
    "    else:\n",
    "        print(pay)\n",
    "except:\n",
    "    print(\"Error,please enter numeric input\")"
   ]
  },
  {
   "cell_type": "code",
   "execution_count": null,
   "metadata": {},
   "outputs": [],
   "source": []
  }
 ],
 "metadata": {
  "kernelspec": {
   "display_name": "Python 3",
   "language": "python",
   "name": "python3"
  },
  "language_info": {
   "codemirror_mode": {
    "name": "ipython",
    "version": 3
   },
   "file_extension": ".py",
   "mimetype": "text/x-python",
   "name": "python",
   "nbconvert_exporter": "python",
   "pygments_lexer": "ipython3",
   "version": "3.7.3"
  }
 },
 "nbformat": 4,
 "nbformat_minor": 2
}

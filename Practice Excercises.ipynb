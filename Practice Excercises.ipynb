{
 "cells": [
  {
   "cell_type": "markdown",
   "metadata": {},
   "source": [
    "Question 1"
   ]
  },
  {
   "cell_type": "markdown",
   "metadata": {},
   "source": [
    "Take two values of length and width of a rectangle  from user and check if its a square or not"
   ]
  },
  {
   "cell_type": "code",
   "execution_count": 1,
   "metadata": {},
   "outputs": [
    {
     "name": "stdout",
     "output_type": "stream",
     "text": [
      "Length :20\n",
      "Width :20\n",
      "Square\n"
     ]
    }
   ],
   "source": [
    "try:\n",
    "    Length = float(input(\"Length :\"))\n",
    "    Width = float(input(\"Width :\"))\n",
    "    Length = float(Length)\n",
    "    Width = float(Width)\n",
    "    if Length != Width:\n",
    "        print(\"Not a Square\")\n",
    "    else:\n",
    "        print(\"Square\")\n",
    "except:\n",
    "        print(\"You haven't entered a numerical value\")"
   ]
  },
  {
   "cell_type": "markdown",
   "metadata": {},
   "source": []
  },
  {
   "cell_type": "markdown",
   "metadata": {},
   "source": [
    "Question 2"
   ]
  },
  {
   "cell_type": "markdown",
   "metadata": {},
   "source": [
    "Take two integer values from user and print greatest among them"
   ]
  },
  {
   "cell_type": "code",
   "execution_count": 2,
   "metadata": {},
   "outputs": [
    {
     "name": "stdout",
     "output_type": "stream",
     "text": [
      "x :10\n",
      "y :30\n",
      "30.0\n"
     ]
    }
   ],
   "source": [
    "try:\n",
    "    x = float(input(\"x :\"))\n",
    "    y = float(input(\"y :\"))\n",
    "    if x > y:\n",
    "        print (x)\n",
    "    elif y > x:\n",
    "        print (y)\n",
    "    else:\n",
    "        print (\"Equal\")\n",
    "except:\n",
    "     print(\"You haven't entered a numerical value\")"
   ]
  },
  {
   "cell_type": "code",
   "execution_count": null,
   "metadata": {},
   "outputs": [],
   "source": []
  },
  {
   "cell_type": "markdown",
   "metadata": {},
   "source": [
    "Qusetion 3"
   ]
  },
  {
   "cell_type": "markdown",
   "metadata": {},
   "source": [
    "A shop will give discount of 10% if the cost of purchased quantity is more than 1000.\n",
    "Ask for the quantity \n",
    "Suppose,one will cost 100\n",
    "Judge and print total cost"
   ]
  },
  {
   "cell_type": "code",
   "execution_count": 3,
   "metadata": {},
   "outputs": [
    {
     "name": "stdout",
     "output_type": "stream",
     "text": [
      "Quantity :20\n",
      "1800.0\n",
      "200.0\n"
     ]
    }
   ],
   "source": [
    "try:\n",
    "    Cost = 100\n",
    "    Quantity = float(input(\"Quantity :\"))\n",
    "    Cost = float(Cost)\n",
    "    Quantity = float(Quantity)\n",
    "    Totalcost =Cost*Quantity\n",
    "    if Totalcost > 1000:\n",
    "        Totalcost = Totalcost - (Totalcost*10/100)\n",
    "        print (Totalcost)\n",
    "        Discount = (100*Quantity)-(Totalcost) \n",
    "        print (Discount)\n",
    "    else:\n",
    "        print (Totalcost)\n",
    "except:\n",
    "    print(\"You haven't entered a numerical value\")\n",
    "\n",
    "    \n",
    "    \n",
    "   "
   ]
  },
  {
   "cell_type": "code",
   "execution_count": null,
   "metadata": {},
   "outputs": [],
   "source": []
  },
  {
   "cell_type": "markdown",
   "metadata": {},
   "source": [
    "Qusetion 4"
   ]
  },
  {
   "cell_type": "markdown",
   "metadata": {},
   "source": [
    "A company decided to give bonus of 5% to employee if his/her year of service is less than or equal 5 years and 10 if his/her year of service is less than 10 years but greater than 5 years and lastly 15% for 10 years and above. Ask user for their salary and year of service and print the net bonus amount"
   ]
  },
  {
   "cell_type": "code",
   "execution_count": null,
   "metadata": {},
   "outputs": [
    {
     "name": "stdout",
     "output_type": "stream",
     "text": [
      "Salary :10000\n",
      " Years_of_Service :18\n",
      "11500.0\n"
     ]
    }
   ],
   "source": [
    "try:\n",
    "    Salary = float(input(\"Salary :\"))\n",
    "    Years_of_Service = float(input(\" Years_of_Service :\"))\n",
    "    if Years_of_Service < 5:\n",
    "        Bonus =  Salary + (Salary*5/100)\n",
    "        print (Bonus)\n",
    "    elif Years_of_Service < 10:\n",
    "        Bonus =  Salary + (Salary*10/100)\n",
    "        print (Bonus)\n",
    "    elif Years_of_Service > 10:\n",
    "        Bonus =  Salary + (Salary*15/100)\n",
    "        print (Bonus)\n",
    "except:\n",
    "    print(\"You haven't entered a numerical value\")\n"
   ]
  },
  {
   "cell_type": "code",
   "execution_count": null,
   "metadata": {},
   "outputs": [],
   "source": []
  },
  {
   "cell_type": "markdown",
   "metadata": {},
   "source": [
    "Question 5"
   ]
  },
  {
   "cell_type": "markdown",
   "metadata": {},
   "source": [
    "A school has following rules for grading system:\n",
    "Below 25 - F\n",
    "25 to 45 - E\n",
    "45 to 50 - D\n",
    "50 to 60 - C\n",
    "60 to 80 - B\n",
    "Above 80 - A \n",
    "Ask user to enter marks and print the corresponding grade. "
   ]
  },
  {
   "cell_type": "code",
   "execution_count": null,
   "metadata": {},
   "outputs": [
    {
     "name": "stdout",
     "output_type": "stream",
     "text": [
      "Grade :67\n",
      "B\n"
     ]
    }
   ],
   "source": [
    "try:\n",
    "    Grade = float(input(\"Grade :\"))\n",
    "    if Grade <= 25:\n",
    "        print (\"F\")\n",
    "    elif Grade <= 45:\n",
    "        print (\"E\")\n",
    "    elif Grade <= 50:\n",
    "        print (\"D\")\n",
    "    elif Grade <= 60:\n",
    "        print (\"C\")\n",
    "    elif Grade <=80:\n",
    "        print (\"B\")\n",
    "    else:\n",
    "        print(\"A\")\n",
    "except:\n",
    "    print(\"You haven't entered a numerical value\")\n"
   ]
  },
  {
   "cell_type": "code",
   "execution_count": null,
   "metadata": {},
   "outputs": [],
   "source": []
  },
  {
   "cell_type": "markdown",
   "metadata": {},
   "source": [
    "Question 6"
   ]
  },
  {
   "cell_type": "markdown",
   "metadata": {},
   "source": [
    "Take input of age of 3 people by user and determine oldest and youngest among them then print their average age. "
   ]
  },
  {
   "cell_type": "code",
   "execution_count": 4,
   "metadata": {},
   "outputs": [
    {
     "name": "stdout",
     "output_type": "stream",
     "text": [
      "Age of person_01: 12\n",
      "Age of person_02: 13\n",
      "Age of person_03: 14\n",
      "Second person is the Oldest\n",
      "First person is the Youngest\n",
      "13\n"
     ]
    }
   ],
   "source": [
    "try:\n",
    "    person_01 = int(input(\"Age of person_01: \"))\n",
    "    person_02 = int(input(\"Age of person_02: \"))\n",
    "    person_03 = int(input(\"Age of person_03: \"))\n",
    "    if person_01 > person_02 and person_03:\n",
    "        print (\"First person is the Oldest\")\n",
    "    elif person_02 > person_01 and person_03:\n",
    "        print (\"Second person is the Oldest\")\n",
    "    elif person_03 > person_02 and person_01:\n",
    "        print (\"Third person is the Oldest\")\n",
    "    else:\n",
    "        print (\"Are of equal ages\")\n",
    "    \n",
    "    if person_01 < person_02 and person_03:\n",
    "        print (\"First person is the Youngest\")\n",
    "    elif person_02 < person_01 and person_03:\n",
    "        print (\"Second person is the Youngest\")\n",
    "    elif person_03 < person_02 and person_01:\n",
    "        print (\"Third person is the Youngest\")\n",
    "    else:\n",
    "        print (\"Are of equal ages\")\n",
    "        \n",
    "    Average_age = int((person_01+person_02+person_03)/3)\n",
    "    print (Average_age)\n",
    "except:\n",
    "        print(\"You haven't entered a numerical value\")\n",
    "\n",
    "    "
   ]
  },
  {
   "cell_type": "code",
   "execution_count": null,
   "metadata": {},
   "outputs": [],
   "source": []
  },
  {
   "cell_type": "markdown",
   "metadata": {},
   "source": [
    "Question 7"
   ]
  },
  {
   "cell_type": "markdown",
   "metadata": {},
   "source": [
    "A student will not be allowed to sit in exam if:\n",
    "his/her attendance is less than 75%.\n",
    "Take following input from user:\n",
    "Number of classes held Number of classes attended.\n",
    "And print percentage of class attended Is student is allowed to sit in exam or not. "
   ]
  },
  {
   "cell_type": "code",
   "execution_count": 1,
   "metadata": {},
   "outputs": [
    {
     "name": "stdout",
     "output_type": "stream",
     "text": [
      "No_of_classes: 40\n",
      "  Classes_attended: 38\n",
      "Student allowed to sit for exam\n",
      "95.0\n"
     ]
    }
   ],
   "source": [
    "try:\n",
    "    No_of_classes = float(input(\"No_of_classes: \"))\n",
    "    Classes_attended = float(input(\"  Classes_attended: \"))\n",
    "    Attendance = (Classes_attended)\n",
    "    if Attendance < (75/100)*(No_of_classes):\n",
    "        print (\"    Student is not allowed to sit for exam\")\n",
    "    else:\n",
    "        print(\"Student allowed to sit for exam\")\n",
    "        \n",
    "    percentage_attendance =((Classes_attended/No_of_classes)*100)\n",
    "    print (percentage_attendance)\n",
    "except:\n",
    "        print (\"You haven't entered a numerical value\")"
   ]
  },
  {
   "cell_type": "code",
   "execution_count": null,
   "metadata": {},
   "outputs": [],
   "source": []
  },
  {
   "cell_type": "markdown",
   "metadata": {},
   "source": [
    "Question 8"
   ]
  },
  {
   "cell_type": "markdown",
   "metadata": {},
   "source": [
    "Modify the above question to allow student to sit if he/she has medical cause. Ask user if he/she has medical cause or not ( 'Y' or 'N' ) and print accordingly. "
   ]
  },
  {
   "cell_type": "code",
   "execution_count": 3,
   "metadata": {},
   "outputs": [
    {
     "name": "stdout",
     "output_type": "stream",
     "text": [
      "Does student have a medical condition? :Y\n",
      "Student is not allowed to sit for exam\n"
     ]
    }
   ],
   "source": [
    "Question = str(input(\"Does student have a medical condition? :\"))\n",
    "if Question is \"Y\":\n",
    "    print (\"Student is not allowed to sit for exam\")\n",
    "elif  Question is \"N\":\n",
    "    print (\"    Student is allowed to sit for exam\")"
   ]
  },
  {
   "cell_type": "code",
   "execution_count": null,
   "metadata": {},
   "outputs": [],
   "source": []
  },
  {
   "cell_type": "code",
   "execution_count": null,
   "metadata": {},
   "outputs": [],
   "source": []
  }
 ],
 "metadata": {
  "kernelspec": {
   "display_name": "Python 3",
   "language": "python",
   "name": "python3"
  },
  "language_info": {
   "codemirror_mode": {
    "name": "ipython",
    "version": 3
   },
   "file_extension": ".py",
   "mimetype": "text/x-python",
   "name": "python",
   "nbconvert_exporter": "python",
   "pygments_lexer": "ipython3",
   "version": "3.7.3"
  }
 },
 "nbformat": 4,
 "nbformat_minor": 2
}
